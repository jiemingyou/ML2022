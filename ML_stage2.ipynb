{
 "cells": [
  {
   "cell_type": "code",
   "execution_count": 2,
   "id": "7ffd55a0-b7c8-46e2-9b02-572c63b83254",
   "metadata": {},
   "outputs": [],
   "source": [
    "import json, requests\n",
    "import pandas as pd, numpy as np\n",
    "import matplotlib.pyplot as plt\n",
    "\n",
    "from datetime import date, timedelta, datetime\n",
    "import pprint as pp\n",
    "\n",
    "# Turn off chained argument warning\n",
    "pd.options.mode.chained_assignment = None  # default='warn'"
   ]
  },
  {
   "cell_type": "markdown",
   "source": [
    "## Preparing weather data\n",
    "\n",
    "CSV-file dowloaded from [Finnish Meteorological Institute](https://en.ilmatieteenlaitos.fi/download-observations)"
   ],
   "metadata": {
    "collapsed": false,
    "pycharm": {
     "name": "#%% md\n"
    }
   }
  },
  {
   "cell_type": "code",
   "execution_count": 3,
   "id": "31cfee2e-c02a-4b50-8ef9-c1489d13fa57",
   "metadata": {},
   "outputs": [
    {
     "data": {
      "text/plain": "                     precip  snow  temp\ndate                                   \n2020-01-01 00:00:00     0.0   0.0  -0.2\n2020-01-01 01:00:00     0.0   0.0   0.2\n2020-01-01 02:00:00     0.0   0.0   0.4",
      "text/html": "<div>\n<style scoped>\n    .dataframe tbody tr th:only-of-type {\n        vertical-align: middle;\n    }\n\n    .dataframe tbody tr th {\n        vertical-align: top;\n    }\n\n    .dataframe thead th {\n        text-align: right;\n    }\n</style>\n<table border=\"1\" class=\"dataframe\">\n  <thead>\n    <tr style=\"text-align: right;\">\n      <th></th>\n      <th>precip</th>\n      <th>snow</th>\n      <th>temp</th>\n    </tr>\n    <tr>\n      <th>date</th>\n      <th></th>\n      <th></th>\n      <th></th>\n    </tr>\n  </thead>\n  <tbody>\n    <tr>\n      <th>2020-01-01 00:00:00</th>\n      <td>0.0</td>\n      <td>0.0</td>\n      <td>-0.2</td>\n    </tr>\n    <tr>\n      <th>2020-01-01 01:00:00</th>\n      <td>0.0</td>\n      <td>0.0</td>\n      <td>0.2</td>\n    </tr>\n    <tr>\n      <th>2020-01-01 02:00:00</th>\n      <td>0.0</td>\n      <td>0.0</td>\n      <td>0.4</td>\n    </tr>\n  </tbody>\n</table>\n</div>"
     },
     "execution_count": 3,
     "metadata": {},
     "output_type": "execute_result"
    }
   ],
   "source": [
    "weather = pd.read_csv('helsinki_fmi.csv')\n",
    "\n",
    "date_column = weather[\"Year\"].astype(str)+'-'+weather[\"m\"].astype(str)+'-'+weather[\"d\"].astype(str) + ' ' +weather[\"Time\"].astype(str)\n",
    "weather.insert(0,\"date\",date_column)\n",
    "weather.drop(['Year','m','d', 'Time', 'Time zone'],axis=1,inplace=True)\n",
    "\n",
    "weather['date'] = pd.to_datetime(weather['date'])\n",
    "weather.set_axis([\"date\", \"precip\",\"snow\", \"temp\"], inplace=True, axis=1)\n",
    "\n",
    "weather.set_index('date', inplace=True)\n",
    "\n",
    "weather.head(3)"
   ]
  },
  {
   "cell_type": "markdown",
   "id": "a629b854-c683-4633-8b1b-e63a80088a91",
   "metadata": {},
   "source": [
    "## Calculating the arrival delay of destination station (Helsinki)"
   ]
  },
  {
   "cell_type": "code",
   "execution_count": 4,
   "id": "d5e8dbd6-8533-400d-a7db-355d9e92844b",
   "metadata": {},
   "outputs": [],
   "source": [
    "def fetch_data(date: str) -> list:\n",
    "    \n",
    "    '''\n",
    "    Fetches a GraphQL query and parses it into a list of train disctionaries (JSON)\n",
    "    '''\n",
    "\n",
    "    query = '''\n",
    "    {\n",
    "      trainsByDepartureDate(\n",
    "        departureDate: \"''' + date + '''\", \n",
    "        where: {and: \n",
    "          [\n",
    "            {operator: {shortCode: {equals: \"vr\"}}},\n",
    "            {trainType: {or: [{name: {equals: \"IC\"}}, {name: {equals: \"S\"}}]}},\n",
    "            {timeTableRows:{contains: {station:{shortCode:{equals:\"HKI\"}}}}}\n",
    "          ]\n",
    "        }, \n",
    "        orderBy: {trainNumber: ASCENDING}) \n",
    "      {\n",
    "        departureDate\n",
    "        trainNumber\n",
    "        trainType {\n",
    "          name\n",
    "        }\n",
    "        timeTableRows {\n",
    "          actualTime\n",
    "          station {\n",
    "            name\n",
    "          }\n",
    "          type\n",
    "          differenceInMinutes\n",
    "        }\n",
    "      }\n",
    "    }\n",
    "    '''\n",
    "\n",
    "    url = 'https://rata.digitraffic.fi/api/v2/graphql/graphql/'\n",
    "    r = requests.post(url, json={'query': query})\n",
    "    print(\"Status code:\", r.status_code)\n",
    "\n",
    "    # List of dicts – each element is one train\n",
    "    json_data = json.loads(r.text)['data']['trainsByDepartureDate']\n",
    "    \n",
    "    return json_data"
   ]
  },
  {
   "cell_type": "code",
   "execution_count": 5,
   "id": "ae86c10f-d74d-4110-a936-7091cb546474",
   "metadata": {},
   "outputs": [],
   "source": [
    "def parse_data(data: list, station_filter = \"Helsinki asema\") -> dict:\n",
    "    \n",
    "    '''\n",
    "    Parses a list of dictionaries containing train informations\n",
    "    '''\n",
    "\n",
    "    all_trains = []\n",
    "    \n",
    "    for t in data:\n",
    "        trains = {}\n",
    "\n",
    "        code = t['trainType']['name'] + str(t['trainNumber'])\n",
    "\n",
    "        t = t['timeTableRows'] # list of stations\n",
    "        try:\n",
    "            city = list(filter(lambda s: s['station']['name'] == f\"{station_filter}\" and s['actualTime'] != None, t))[0] #and s['type'] == 'ARRIVAL'\n",
    "        except:\n",
    "            continue\n",
    "\n",
    "        delay = city['differenceInMinutes']\n",
    "        time = city['actualTime']\n",
    "\n",
    "        trains['time'] = time\n",
    "        trains['code'] = code\n",
    "        trains['delay'] = delay\n",
    "\n",
    "        all_trains.append(trains)\n",
    "    \n",
    "    return all_trains"
   ]
  },
  {
   "cell_type": "code",
   "execution_count": 6,
   "id": "643d00c5-1773-4812-ac05-508b66238220",
   "metadata": {},
   "outputs": [],
   "source": [
    "def hour_rounder(t):\n",
    "    '''\n",
    "    # Rounds to nearest hour by adding a timedelta hour if minute >= 30\n",
    "    '''\n",
    "    \n",
    "    return (t.replace(second=0, microsecond=0, minute=0, hour=t.hour)\n",
    "               +timedelta(hours=t.minute//30))"
   ]
  },
  {
   "cell_type": "code",
   "execution_count": 7,
   "id": "6fb49d4d-4d11-4241-a212-11b7a4135407",
   "metadata": {},
   "outputs": [],
   "source": [
    "def main():\n",
    "    start_date = date(2020, 1, 1)\n",
    "    end_date = date(2022, 1, 3)\n",
    "    delta = timedelta(days=1)\n",
    "\n",
    "    delays = pd.DataFrame()\n",
    "\n",
    "    while start_date <= end_date:\n",
    "\n",
    "        print(\"Now fetching:\",str(start_date))\n",
    "\n",
    "        data = parse_data(fetch_data(str(start_date)))\n",
    "        df = pd.DataFrame.from_dict(data)\n",
    "        delays = pd.concat([delays, df], ignore_index=True)\n",
    "\n",
    "        start_date += delta\n",
    "\n",
    "\n",
    "    delays['time'] = delays['time'].apply(lambda x: datetime.strptime(x, \"%Y-%m-%dT%H:%M:%SZ\"))\n",
    "    delays.sort_values('time', inplace=True)\n",
    "    delays.reset_index(inplace=True)\n",
    "    delays.drop(\"index\", axis='columns', inplace=True)\n",
    "\n",
    "    delays.to_csv('delays.csv', index=False)"
   ]
  },
  {
   "cell_type": "code",
   "execution_count": 8,
   "id": "0a499312-7fa5-4a98-8506-9986362e730c",
   "metadata": {},
   "outputs": [
    {
     "data": {
      "text/plain": "                     time   code  delay                date  weekday\n51082 2021-06-24 10:17:56   IC37      1 2021-06-24 10:00:00        3\n53807 2021-07-22 15:52:13   IC50     10 2021-07-22 16:00:00        3\n56695 2021-08-21 06:15:27  IC274      0 2021-08-21 06:00:00        5",
      "text/html": "<div>\n<style scoped>\n    .dataframe tbody tr th:only-of-type {\n        vertical-align: middle;\n    }\n\n    .dataframe tbody tr th {\n        vertical-align: top;\n    }\n\n    .dataframe thead th {\n        text-align: right;\n    }\n</style>\n<table border=\"1\" class=\"dataframe\">\n  <thead>\n    <tr style=\"text-align: right;\">\n      <th></th>\n      <th>time</th>\n      <th>code</th>\n      <th>delay</th>\n      <th>date</th>\n      <th>weekday</th>\n    </tr>\n  </thead>\n  <tbody>\n    <tr>\n      <th>51082</th>\n      <td>2021-06-24 10:17:56</td>\n      <td>IC37</td>\n      <td>1</td>\n      <td>2021-06-24 10:00:00</td>\n      <td>3</td>\n    </tr>\n    <tr>\n      <th>53807</th>\n      <td>2021-07-22 15:52:13</td>\n      <td>IC50</td>\n      <td>10</td>\n      <td>2021-07-22 16:00:00</td>\n      <td>3</td>\n    </tr>\n    <tr>\n      <th>56695</th>\n      <td>2021-08-21 06:15:27</td>\n      <td>IC274</td>\n      <td>0</td>\n      <td>2021-08-21 06:00:00</td>\n      <td>5</td>\n    </tr>\n  </tbody>\n</table>\n</div>"
     },
     "execution_count": 8,
     "metadata": {},
     "output_type": "execute_result"
    }
   ],
   "source": [
    "# Load the dataframe\n",
    "\n",
    "try:\n",
    "    df = pd.read_csv('delays.csv', parse_dates=['time'])\n",
    "except:\n",
    "    main()\n",
    "    df = pd.read_csv('delays.csv', parse_dates=['time'])\n",
    "\n",
    "df['date'] = df['time'].apply(lambda x: hour_rounder(x))\n",
    "df['weekday'] = df['time'].apply(lambda x: x.weekday())\n",
    "\n",
    "df.sample(3)"
   ]
  },
  {
   "cell_type": "code",
   "execution_count": 9,
   "outputs": [
    {
     "data": {
      "text/plain": "                     weekday   code  code_int  delay\ndate                                                \n2021-08-02 05:00:00        0  IC102         7      0\n2021-03-12 20:00:00        4  IC187       170      0\n2020-03-23 12:00:00        0   IC27        50      0",
      "text/html": "<div>\n<style scoped>\n    .dataframe tbody tr th:only-of-type {\n        vertical-align: middle;\n    }\n\n    .dataframe tbody tr th {\n        vertical-align: top;\n    }\n\n    .dataframe thead th {\n        text-align: right;\n    }\n</style>\n<table border=\"1\" class=\"dataframe\">\n  <thead>\n    <tr style=\"text-align: right;\">\n      <th></th>\n      <th>weekday</th>\n      <th>code</th>\n      <th>code_int</th>\n      <th>delay</th>\n    </tr>\n    <tr>\n      <th>date</th>\n      <th></th>\n      <th></th>\n      <th></th>\n      <th></th>\n    </tr>\n  </thead>\n  <tbody>\n    <tr>\n      <th>2021-08-02 05:00:00</th>\n      <td>0</td>\n      <td>IC102</td>\n      <td>7</td>\n      <td>0</td>\n    </tr>\n    <tr>\n      <th>2021-03-12 20:00:00</th>\n      <td>4</td>\n      <td>IC187</td>\n      <td>170</td>\n      <td>0</td>\n    </tr>\n    <tr>\n      <th>2020-03-23 12:00:00</th>\n      <td>0</td>\n      <td>IC27</td>\n      <td>50</td>\n      <td>0</td>\n    </tr>\n  </tbody>\n</table>\n</div>"
     },
     "execution_count": 9,
     "metadata": {},
     "output_type": "execute_result"
    }
   ],
   "source": [
    "# Using rounded hours\n",
    "delays = df[['date', 'weekday', 'code', 'delay']]\n",
    "delays.set_index('date', inplace=True)\n",
    "\n",
    "# Transforming code into numeric values\n",
    "train_lookup = {code:num for (num, code) in enumerate(df['code'].unique())}\n",
    "delays['code_int'] = delays['code'].apply(lambda x: train_lookup[x])\n",
    "delays = delays[['weekday', 'code', 'code_int', 'delay']]\n",
    "\n",
    "delays.sample(3)"
   ],
   "metadata": {
    "collapsed": false,
    "pycharm": {
     "name": "#%%\n"
    }
   }
  },
  {
   "cell_type": "markdown",
   "source": [
    "## Data exploration"
   ],
   "metadata": {
    "collapsed": false,
    "pycharm": {
     "name": "#%% md\n"
    }
   }
  },
  {
   "cell_type": "code",
   "execution_count": 10,
   "outputs": [
    {
     "data": {
      "text/plain": "<AxesSubplot:xlabel='delay'>"
     },
     "execution_count": 10,
     "metadata": {},
     "output_type": "execute_result"
    },
    {
     "data": {
      "text/plain": "<Figure size 432x288 with 1 Axes>",
      "image/png": "[encoded data removed]"
     },
     "metadata": {
      "needs_background": "light"
     },
     "output_type": "display_data"
    }
   ],
   "source": [
    "delays.groupby('delay').count()['weekday'].sort_values(ascending=False)[:10].plot.bar(color='lightgray', edgecolor='black')"
   ],
   "metadata": {
    "collapsed": false,
    "pycharm": {
     "name": "#%%\n"
    }
   }
  },
  {
   "cell_type": "code",
   "execution_count": 11,
   "outputs": [
    {
     "data": {
      "text/plain": "Text(0.5, 1.0, \"Each hours's average delay\")"
     },
     "execution_count": 11,
     "metadata": {},
     "output_type": "execute_result"
    },
    {
     "data": {
      "text/plain": "<Figure size 1440x288 with 4 Axes>",
      "image/png": "[encoded data removed]"
     },
     "metadata": {
      "needs_background": "light"
     },
     "output_type": "display_data"
    }
   ],
   "source": [
    "df_hour = df.copy()\n",
    "df_hour['hour'] = df_hour['time'].apply(\n",
    "    lambda x: x.hour\n",
    ")\n",
    "df_hour['month'] = df_hour['time'].apply(\n",
    "    lambda x: x.month\n",
    ")\n",
    "\n",
    "plt.figure(figsize=(20,4))\n",
    "\n",
    "\n",
    "plt.subplot(1, 4, 1)\n",
    "weekday_avgdelay = df_hour.groupby('month').mean()['delay'].to_numpy()\n",
    "plt.bar(\"Jan Feb Mar Apr May Jun Jul Aug Sep Oct Nov Dec\".split(\" \"),\n",
    "        weekday_avgdelay,\n",
    "        edgecolor=\"black\",\n",
    "        color=\"lightgray\")\n",
    "plt.xticks(rotation=-45)\n",
    "\n",
    "plt.title(\"Each month's average delay\", size=14, pad=8)\n",
    "\n",
    "\n",
    "\n",
    "plt.subplot(1, 4, 2)\n",
    "weekday_avgdelay = df.groupby('weekday').mean()['delay'].to_numpy()\n",
    "plt.bar(\"Mon Tue Wed Thu Fri Sat Sun\".split(\" \"),\n",
    "        weekday_avgdelay,\n",
    "        edgecolor=\"black\",\n",
    "        color=\"lightgray\")\n",
    "\n",
    "plt.title(\"Each day's average delay\", size=14, pad=8)\n",
    "\n",
    "\n",
    "\n",
    "plt.subplot(1, 4, 3)\n",
    "plt.hist(df_hour['hour'],\n",
    "         bins=24,\n",
    "         edgecolor=\"black\",\n",
    "         color=\"lightgray\")\n",
    "\n",
    "plt.title('Arrival hours', size=14, pad=8)\n",
    "\n",
    "\n",
    "\n",
    "plt.subplot(1, 4, 4)\n",
    "time_avgdelay = df_hour.groupby('hour').mean()['delay'].to_numpy()\n",
    "plt.bar(range(23)[2:-3],\n",
    "        time_avgdelay[2:-3],\n",
    "        edgecolor=\"black\",\n",
    "        color=\"lightgray\")\n",
    "\n",
    "plt.title(\"Each hours's average delay\", size=14, pad=8)\n"
   ],
   "metadata": {
    "collapsed": false,
    "pycharm": {
     "name": "#%%\n"
    }
   }
  },
  {
   "cell_type": "code",
   "execution_count": 12,
   "id": "ee79435b-a8eb-4dd3-a76e-4543b1c0c5c6",
   "metadata": {},
   "outputs": [
    {
     "name": "stdout",
     "output_type": "stream",
     "text": [
      "Delay median\t\t 1.0\n",
      "Delay mean\t\t\t 2.48\n",
      "---------\n",
      "Delay std\t\t\t 9.01\n",
      "Delay absolute dev\t 3.14\n",
      "---------\n",
      "Unique trains:\t\t 264\n"
     ]
    }
   ],
   "source": [
    "print(\"Delay median\\t\\t\", df['delay'].median())\n",
    "print(\"Delay mean\\t\\t\\t\", round(df['delay'].mean(), 2))\n",
    "print('---------')\n",
    "print(\"Delay std\\t\\t\\t\", round(df['delay'].std(), 2))\n",
    "print(\"Delay absolute dev\\t\", round(df['delay'].mad(), 2))\n",
    "print('---------')\n",
    "print(\"Unique trains:\\t\\t\", len(df['code'].unique()))"
   ]
  },
  {
   "cell_type": "code",
   "execution_count": 22,
   "id": "a908265b-0eba-415b-868b-3adad3fb5bc1",
   "metadata": {},
   "outputs": [
    {
     "data": {
      "text/plain": "<Figure size 1728x288 with 7 Axes>",
      "image/png": "[encoded data removed]"
     },
     "metadata": {
      "needs_background": "light"
     },
     "output_type": "display_data"
    }
   ],
   "source": [
    "fig, axes = plt.subplots(1,7,figsize=(24,4))\n",
    "weekdays = (\"Monday\",\"Tuesday\",\"Wednesday\",\"Thursday\",\"Friday\",\"Saturday\",\"Sunday\")\n",
    "\n",
    "for i in range(7):\n",
    "    d = df[ (df['code'] == \"IC12\") & (df['weekday'] == i) & (df['delay'] < 15) ][\"delay\"].to_numpy()\n",
    "    \n",
    "    axes[i].hist(d, bins=6, edgecolor=\"black\",\n",
    "                 color=\"lightgray\")\n",
    "    axes[i].set_xlabel(\"delay (minutes)\")\n",
    "    axes[i].set_title((\"Avg delay on \" + weekdays[i]))"
   ]
  },
  {
   "cell_type": "code",
   "execution_count": 23,
   "outputs": [
    {
     "data": {
      "text/plain": "       trips  delay_count  delay_pct\ncode                                \nIC12     729          241   0.330590\nIC10     724          231   0.319061\nIC986    269           83   0.308550\nIC968    423          129   0.304965\nIC104    516          149   0.288760",
      "text/html": "<div>\n<style scoped>\n    .dataframe tbody tr th:only-of-type {\n        vertical-align: middle;\n    }\n\n    .dataframe tbody tr th {\n        vertical-align: top;\n    }\n\n    .dataframe thead th {\n        text-align: right;\n    }\n</style>\n<table border=\"1\" class=\"dataframe\">\n  <thead>\n    <tr style=\"text-align: right;\">\n      <th></th>\n      <th>trips</th>\n      <th>delay_count</th>\n      <th>delay_pct</th>\n    </tr>\n    <tr>\n      <th>code</th>\n      <th></th>\n      <th></th>\n      <th></th>\n    </tr>\n  </thead>\n  <tbody>\n    <tr>\n      <th>IC12</th>\n      <td>729</td>\n      <td>241</td>\n      <td>0.330590</td>\n    </tr>\n    <tr>\n      <th>IC10</th>\n      <td>724</td>\n      <td>231</td>\n      <td>0.319061</td>\n    </tr>\n    <tr>\n      <th>IC986</th>\n      <td>269</td>\n      <td>83</td>\n      <td>0.308550</td>\n    </tr>\n    <tr>\n      <th>IC968</th>\n      <td>423</td>\n      <td>129</td>\n      <td>0.304965</td>\n    </tr>\n    <tr>\n      <th>IC104</th>\n      <td>516</td>\n      <td>149</td>\n      <td>0.288760</td>\n    </tr>\n  </tbody>\n</table>\n</div>"
     },
     "execution_count": 23,
     "metadata": {},
     "output_type": "execute_result"
    }
   ],
   "source": [
    "# most delayed trains\n",
    "\n",
    "threshold = 5\n",
    "delay_count = delays[['code', 'delay']]\n",
    "delay_count['delay'] = delay_count['delay'].apply(lambda x: 0 if x<threshold else 1)\n",
    "delay_count = delay_count.groupby('code').sum().set_axis(['delay_count'], axis=1)\n",
    "\n",
    "most_delayed = delays.groupby('code').count()['weekday'].to_frame()\n",
    "\n",
    "delay_stats = most_delayed.join(delay_count)\n",
    "delay_stats['delay_pct'] = delay_stats.apply(\n",
    "    lambda x: x['delay_count'] / x['weekday'],\n",
    "    axis = 1\n",
    ")\n",
    "delay_stats.set_axis(['trips', 'delay_count', 'delay_pct'], axis=1, inplace=True)\n",
    "\n",
    "delay_stats[ delay_stats['trips'] > 100 ].sort_values('delay_pct', ascending=False).head(5)"
   ],
   "metadata": {
    "collapsed": false,
    "pycharm": {
     "name": "#%%\n"
    }
   }
  },
  {
   "cell_type": "markdown",
   "id": "64a17577-750b-49d7-aab5-9d274d68fc3d",
   "metadata": {
    "pycharm": {
     "name": "#%% md\n"
    }
   },
   "source": [
    "## Processing data to into datapoints, features and labels\n"
   ]
  },
  {
   "cell_type": "code",
   "execution_count": 24,
   "outputs": [
    {
     "name": "stdout",
     "output_type": "stream",
     "text": [
      "weekday      int64\n",
      "code        object\n",
      "code_int     int64\n",
      "delay        int64\n",
      "dtype: object\n",
      "precip    float64\n",
      "snow      float64\n",
      "temp      float64\n",
      "dtype: object\n"
     ]
    }
   ],
   "source": [
    "print(delays.dtypes)\n",
    "print(weather.dtypes)"
   ],
   "metadata": {
    "collapsed": false,
    "pycharm": {
     "name": "#%%\n"
    }
   }
  },
  {
   "cell_type": "code",
   "execution_count": 25,
   "outputs": [
    {
     "data": {
      "text/plain": "                     weekday  code  code_int  precip  snow  temp  delay\ndate                                                                   \n2020-01-01 03:00:00        2   S35         0     0.0   0.0   0.7      0\n2020-01-01 04:00:00        2  IC21         1     0.0   0.0   0.8      1\n2020-01-01 05:00:00        2   IC1         2     0.0   0.0   1.2      1\n2020-01-01 05:00:00        2  S155         3     0.0   0.0   1.2      0\n2020-01-01 05:00:00        2   S41         4     0.0   0.0   1.2      3",
      "text/html": "<div>\n<style scoped>\n    .dataframe tbody tr th:only-of-type {\n        vertical-align: middle;\n    }\n\n    .dataframe tbody tr th {\n        vertical-align: top;\n    }\n\n    .dataframe thead th {\n        text-align: right;\n    }\n</style>\n<table border=\"1\" class=\"dataframe\">\n  <thead>\n    <tr style=\"text-align: right;\">\n      <th></th>\n      <th>weekday</th>\n      <th>code</th>\n      <th>code_int</th>\n      <th>precip</th>\n      <th>snow</th>\n      <th>temp</th>\n      <th>delay</th>\n    </tr>\n    <tr>\n      <th>date</th>\n      <th></th>\n      <th></th>\n      <th></th>\n      <th></th>\n      <th></th>\n      <th></th>\n      <th></th>\n    </tr>\n  </thead>\n  <tbody>\n    <tr>\n      <th>2020-01-01 03:00:00</th>\n      <td>2</td>\n      <td>S35</td>\n      <td>0</td>\n      <td>0.0</td>\n      <td>0.0</td>\n      <td>0.7</td>\n      <td>0</td>\n    </tr>\n    <tr>\n      <th>2020-01-01 04:00:00</th>\n      <td>2</td>\n      <td>IC21</td>\n      <td>1</td>\n      <td>0.0</td>\n      <td>0.0</td>\n      <td>0.8</td>\n      <td>1</td>\n    </tr>\n    <tr>\n      <th>2020-01-01 05:00:00</th>\n      <td>2</td>\n      <td>IC1</td>\n      <td>2</td>\n      <td>0.0</td>\n      <td>0.0</td>\n      <td>1.2</td>\n      <td>1</td>\n    </tr>\n    <tr>\n      <th>2020-01-01 05:00:00</th>\n      <td>2</td>\n      <td>S155</td>\n      <td>3</td>\n      <td>0.0</td>\n      <td>0.0</td>\n      <td>1.2</td>\n      <td>0</td>\n    </tr>\n    <tr>\n      <th>2020-01-01 05:00:00</th>\n      <td>2</td>\n      <td>S41</td>\n      <td>4</td>\n      <td>0.0</td>\n      <td>0.0</td>\n      <td>1.2</td>\n      <td>3</td>\n    </tr>\n  </tbody>\n</table>\n</div>"
     },
     "execution_count": 25,
     "metadata": {},
     "output_type": "execute_result"
    }
   ],
   "source": [
    "data = delays.join(weather)\n",
    "data = data[['weekday', 'code', 'code_int', 'precip', 'snow', 'temp', 'delay']]\n",
    "\n",
    "data.head()"
   ],
   "metadata": {
    "collapsed": false,
    "pycharm": {
     "name": "#%%\n"
    }
   }
  },
  {
   "cell_type": "code",
   "execution_count": 26,
   "outputs": [],
   "source": [
    "# Adding month feature\n",
    "data['month'] = pd.Series(data.index, index=data.index).map(\n",
    "    lambda x: x.month\n",
    ")\n",
    "data = data[['month', 'weekday', 'code', 'code_int', 'precip', 'snow', 'temp', 'delay']].dropna()"
   ],
   "metadata": {
    "collapsed": false,
    "pycharm": {
     "name": "#%%\n"
    }
   }
  },
  {
   "cell_type": "code",
   "execution_count": 27,
   "outputs": [
    {
     "data": {
      "text/plain": "0.3884861224314701"
     },
     "execution_count": 27,
     "metadata": {},
     "output_type": "execute_result"
    }
   ],
   "source": [
    " data[data['delay'] == 0].size / data.size"
   ],
   "metadata": {
    "collapsed": false,
    "pycharm": {
     "name": "#%%\n"
    }
   }
  },
  {
   "cell_type": "code",
   "execution_count": 32,
   "outputs": [],
   "source": [
    "# Prepares the features and labels of the selected route\n",
    "\n",
    "def prepare(dframe) -> (np.ndarray, np.ndarray):\n",
    "\n",
    "    dframe = dframe.dropna()\n",
    "\n",
    "    X = dframe[['code_int', 'month', 'weekday', 'precip', 'snow', 'temp']].to_numpy().reshape(-1, 6)\n",
    "    y = dframe['delay'].to_numpy()\n",
    "\n",
    "    return X, y\n",
    "\n",
    "\n",
    "def prepare_filter(route: str, dropna: bool = True) -> (np.ndarray, np.ndarray):\n",
    "    filtered = data[ data['code'] == route.upper() ].dropna()\n",
    "    if len(filtered) == 0:\n",
    "        raise Exception(f\"No data found for route {route}\")\n",
    "\n",
    "    X = filtered[['code_int', 'month', 'weekday', 'precip', 'snow', 'temp']].to_numpy().reshape(-1, 6)\n",
    "    y = filtered['delay'].to_numpy()\n",
    "\n",
    "    return X, y"
   ],
   "metadata": {
    "collapsed": false,
    "pycharm": {
     "name": "#%%\n"
    }
   }
  },
  {
   "cell_type": "code",
   "execution_count": 33,
   "outputs": [],
   "source": [
    "X, y = prepare(data)"
   ],
   "metadata": {
    "collapsed": false,
    "pycharm": {
     "name": "#%%\n"
    }
   }
  },
  {
   "cell_type": "code",
   "execution_count": 31,
   "outputs": [
    {
     "name": "stdout",
     "output_type": "stream",
     "text": [
      "0.5999885604793159\n",
      "0.20000571976034204\n",
      "0.20000571976034204\n"
     ]
    }
   ],
   "source": [
    "from sklearn.model_selection import train_test_split\n",
    "X_train, X_res, y_train, y_res = train_test_split(X, y, test_size=0.4)\n",
    "X_val, X_test, y_val, y_test = train_test_split(X_res, y_res, test_size=0.5)\n",
    "\n",
    "print(X_train.size / X.size)\n",
    "print(X_val.size / X.size)\n",
    "print(X_test.size / X.size)"
   ],
   "metadata": {
    "collapsed": false,
    "pycharm": {
     "name": "#%%\n"
    }
   }
  }
 ],
 "metadata": {
  "kernelspec": {
   "display_name": "Python 3 (ipykernel)",
   "language": "python",
   "name": "python3"
  },
  "language_info": {
   "codemirror_mode": {
    "name": "ipython",
    "version": 3
   },
   "file_extension": ".py",
   "mimetype": "text/x-python",
   "name": "python",
   "nbconvert_exporter": "python",
   "pygments_lexer": "ipython3",
   "version": "3.9.5"
  }
 },
 "nbformat": 4,
 "nbformat_minor": 5
}